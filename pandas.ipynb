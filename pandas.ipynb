{
 "cells": [
  {
   "cell_type": "code",
   "execution_count": 2,
   "metadata": {
    "collapsed": false
   },
   "outputs": [],
   "source": [
    "import pandas as pd\n",
    "import numpy as np\n",
    "import matplotlib\n",
    "import matplotlib.pyplot as plt\n",
    "matplotlib.style.use('ggplot')"
   ]
  },
  {
   "cell_type": "code",
   "execution_count": 12,
   "metadata": {
    "collapsed": true
   },
   "outputs": [],
   "source": [
    "#how to create a Series\n",
    "s=pd.Series([1,3,4,np.nan,5,8])"
   ]
  },
  {
   "cell_type": "code",
   "execution_count": 14,
   "metadata": {
    "collapsed": false
   },
   "outputs": [
    {
     "data": {
      "text/plain": [
       "0     1\n",
       "1     3\n",
       "2     4\n",
       "3   NaN\n",
       "4     5\n",
       "5     8\n",
       "dtype: float64"
      ]
     },
     "execution_count": 14,
     "metadata": {},
     "output_type": "execute_result"
    }
   ],
   "source": [
    "s"
   ]
  },
  {
   "cell_type": "code",
   "execution_count": 68,
   "metadata": {
    "collapsed": false
   },
   "outputs": [],
   "source": [
    "#how to create a DataFrame\n",
    "dates=pd.date_range('20000101',periods=9)\n",
    "df=pd.DataFrame(np.random.randn(9,4),index=dates,columns=list('ABCD'))"
   ]
  },
  {
   "cell_type": "code",
   "execution_count": 69,
   "metadata": {
    "collapsed": false
   },
   "outputs": [
    {
     "data": {
      "text/html": [
       "<div>\n",
       "<table border=\"1\" class=\"dataframe\">\n",
       "  <thead>\n",
       "    <tr style=\"text-align: right;\">\n",
       "      <th></th>\n",
       "      <th>A</th>\n",
       "      <th>B</th>\n",
       "      <th>C</th>\n",
       "      <th>D</th>\n",
       "    </tr>\n",
       "  </thead>\n",
       "  <tbody>\n",
       "    <tr>\n",
       "      <th>2000-01-01</th>\n",
       "      <td>-1.562713</td>\n",
       "      <td>-0.715731</td>\n",
       "      <td>-0.949067</td>\n",
       "      <td>0.399745</td>\n",
       "    </tr>\n",
       "    <tr>\n",
       "      <th>2000-01-02</th>\n",
       "      <td>0.468954</td>\n",
       "      <td>-0.118286</td>\n",
       "      <td>0.127002</td>\n",
       "      <td>0.385566</td>\n",
       "    </tr>\n",
       "    <tr>\n",
       "      <th>2000-01-03</th>\n",
       "      <td>-0.081835</td>\n",
       "      <td>-0.262368</td>\n",
       "      <td>-0.686554</td>\n",
       "      <td>-0.592555</td>\n",
       "    </tr>\n",
       "    <tr>\n",
       "      <th>2000-01-04</th>\n",
       "      <td>-1.264786</td>\n",
       "      <td>-1.291058</td>\n",
       "      <td>0.600565</td>\n",
       "      <td>0.334477</td>\n",
       "    </tr>\n",
       "    <tr>\n",
       "      <th>2000-01-05</th>\n",
       "      <td>-0.560716</td>\n",
       "      <td>0.118650</td>\n",
       "      <td>1.559770</td>\n",
       "      <td>-0.834796</td>\n",
       "    </tr>\n",
       "    <tr>\n",
       "      <th>2000-01-06</th>\n",
       "      <td>0.913994</td>\n",
       "      <td>0.352224</td>\n",
       "      <td>0.300514</td>\n",
       "      <td>0.778434</td>\n",
       "    </tr>\n",
       "    <tr>\n",
       "      <th>2000-01-07</th>\n",
       "      <td>-0.643505</td>\n",
       "      <td>0.674025</td>\n",
       "      <td>1.714648</td>\n",
       "      <td>-0.524518</td>\n",
       "    </tr>\n",
       "    <tr>\n",
       "      <th>2000-01-08</th>\n",
       "      <td>-1.046943</td>\n",
       "      <td>0.052942</td>\n",
       "      <td>-0.382222</td>\n",
       "      <td>-0.346282</td>\n",
       "    </tr>\n",
       "    <tr>\n",
       "      <th>2000-01-09</th>\n",
       "      <td>0.096987</td>\n",
       "      <td>0.816454</td>\n",
       "      <td>-0.251784</td>\n",
       "      <td>-0.110061</td>\n",
       "    </tr>\n",
       "  </tbody>\n",
       "</table>\n",
       "</div>"
      ],
      "text/plain": [
       "                   A         B         C         D\n",
       "2000-01-01 -1.562713 -0.715731 -0.949067  0.399745\n",
       "2000-01-02  0.468954 -0.118286  0.127002  0.385566\n",
       "2000-01-03 -0.081835 -0.262368 -0.686554 -0.592555\n",
       "2000-01-04 -1.264786 -1.291058  0.600565  0.334477\n",
       "2000-01-05 -0.560716  0.118650  1.559770 -0.834796\n",
       "2000-01-06  0.913994  0.352224  0.300514  0.778434\n",
       "2000-01-07 -0.643505  0.674025  1.714648 -0.524518\n",
       "2000-01-08 -1.046943  0.052942 -0.382222 -0.346282\n",
       "2000-01-09  0.096987  0.816454 -0.251784 -0.110061"
      ]
     },
     "execution_count": 69,
     "metadata": {},
     "output_type": "execute_result"
    }
   ],
   "source": [
    "df"
   ]
  },
  {
   "cell_type": "code",
   "execution_count": 18,
   "metadata": {
    "collapsed": false
   },
   "outputs": [
    {
     "data": {
      "text/html": [
       "<div>\n",
       "<table border=\"1\" class=\"dataframe\">\n",
       "  <thead>\n",
       "    <tr style=\"text-align: right;\">\n",
       "      <th></th>\n",
       "      <th>A</th>\n",
       "      <th>B</th>\n",
       "      <th>C</th>\n",
       "      <th>D</th>\n",
       "    </tr>\n",
       "  </thead>\n",
       "  <tbody>\n",
       "    <tr>\n",
       "      <th>2000-01-01</th>\n",
       "      <td>0.193471</td>\n",
       "      <td>-0.219542</td>\n",
       "      <td>1.419361</td>\n",
       "      <td>-0.990787</td>\n",
       "    </tr>\n",
       "    <tr>\n",
       "      <th>2000-01-02</th>\n",
       "      <td>0.422947</td>\n",
       "      <td>0.026119</td>\n",
       "      <td>0.834805</td>\n",
       "      <td>0.599021</td>\n",
       "    </tr>\n",
       "    <tr>\n",
       "      <th>2000-01-03</th>\n",
       "      <td>1.929653</td>\n",
       "      <td>-0.198232</td>\n",
       "      <td>-0.153435</td>\n",
       "      <td>0.382690</td>\n",
       "    </tr>\n",
       "    <tr>\n",
       "      <th>2000-01-04</th>\n",
       "      <td>0.187155</td>\n",
       "      <td>0.187613</td>\n",
       "      <td>1.242034</td>\n",
       "      <td>-1.188389</td>\n",
       "    </tr>\n",
       "  </tbody>\n",
       "</table>\n",
       "</div>"
      ],
      "text/plain": [
       "                   A         B         C         D\n",
       "2000-01-01  0.193471 -0.219542  1.419361 -0.990787\n",
       "2000-01-02  0.422947  0.026119  0.834805  0.599021\n",
       "2000-01-03  1.929653 -0.198232 -0.153435  0.382690\n",
       "2000-01-04  0.187155  0.187613  1.242034 -1.188389"
      ]
     },
     "execution_count": 18,
     "metadata": {},
     "output_type": "execute_result"
    }
   ],
   "source": [
    "df['2000-01':'2000-01-04']"
   ]
  },
  {
   "cell_type": "code",
   "execution_count": 19,
   "metadata": {
    "collapsed": false
   },
   "outputs": [
    {
     "data": {
      "text/html": [
       "<div>\n",
       "<table border=\"1\" class=\"dataframe\">\n",
       "  <thead>\n",
       "    <tr style=\"text-align: right;\">\n",
       "      <th></th>\n",
       "      <th>A</th>\n",
       "      <th>B</th>\n",
       "      <th>C</th>\n",
       "      <th>D</th>\n",
       "    </tr>\n",
       "  </thead>\n",
       "  <tbody>\n",
       "    <tr>\n",
       "      <th>2000-01-01</th>\n",
       "      <td>0.193471</td>\n",
       "      <td>-0.219542</td>\n",
       "      <td>1.419361</td>\n",
       "      <td>-0.990787</td>\n",
       "    </tr>\n",
       "    <tr>\n",
       "      <th>2000-01-02</th>\n",
       "      <td>0.422947</td>\n",
       "      <td>0.026119</td>\n",
       "      <td>0.834805</td>\n",
       "      <td>0.599021</td>\n",
       "    </tr>\n",
       "    <tr>\n",
       "      <th>2000-01-03</th>\n",
       "      <td>1.929653</td>\n",
       "      <td>-0.198232</td>\n",
       "      <td>-0.153435</td>\n",
       "      <td>0.382690</td>\n",
       "    </tr>\n",
       "    <tr>\n",
       "      <th>2000-01-04</th>\n",
       "      <td>0.187155</td>\n",
       "      <td>0.187613</td>\n",
       "      <td>1.242034</td>\n",
       "      <td>-1.188389</td>\n",
       "    </tr>\n",
       "    <tr>\n",
       "      <th>2000-01-05</th>\n",
       "      <td>0.904376</td>\n",
       "      <td>0.774951</td>\n",
       "      <td>-0.270099</td>\n",
       "      <td>-1.738875</td>\n",
       "    </tr>\n",
       "    <tr>\n",
       "      <th>2000-01-06</th>\n",
       "      <td>-1.097730</td>\n",
       "      <td>-0.464927</td>\n",
       "      <td>0.165614</td>\n",
       "      <td>-0.746640</td>\n",
       "    </tr>\n",
       "  </tbody>\n",
       "</table>\n",
       "</div>"
      ],
      "text/plain": [
       "                   A         B         C         D\n",
       "2000-01-01  0.193471 -0.219542  1.419361 -0.990787\n",
       "2000-01-02  0.422947  0.026119  0.834805  0.599021\n",
       "2000-01-03  1.929653 -0.198232 -0.153435  0.382690\n",
       "2000-01-04  0.187155  0.187613  1.242034 -1.188389\n",
       "2000-01-05  0.904376  0.774951 -0.270099 -1.738875\n",
       "2000-01-06 -1.097730 -0.464927  0.165614 -0.746640"
      ]
     },
     "execution_count": 19,
     "metadata": {},
     "output_type": "execute_result"
    }
   ],
   "source": [
    "df['2000']"
   ]
  },
  {
   "cell_type": "code",
   "execution_count": 25,
   "metadata": {
    "collapsed": false
   },
   "outputs": [
    {
     "data": {
      "text/plain": [
       "array([2000, 2000, 2000, 2000, 2000, 2000])"
      ]
     },
     "execution_count": 25,
     "metadata": {},
     "output_type": "execute_result"
    }
   ],
   "source": [
    "df.index.year"
   ]
  },
  {
   "cell_type": "markdown",
   "metadata": {},
   "source": [
    "This shows how to create a multiindex based on dates and stock symbols"
   ]
  },
  {
   "cell_type": "code",
   "execution_count": 108,
   "metadata": {
    "collapsed": false
   },
   "outputs": [
    {
     "data": {
      "text/plain": [
       "DatetimeIndex(['2001-01-01', '2001-01-02', '2001-01-03', '2001-01-01',\n",
       "               '2001-01-02', '2001-01-04', '2001-01-02', '2001-01-03',\n",
       "               '2001-01-04'],\n",
       "              dtype='datetime64[ns]', freq=None, tz=None)"
      ]
     },
     "execution_count": 108,
     "metadata": {},
     "output_type": "execute_result"
    }
   ],
   "source": [
    "dates=pd.DatetimeIndex(['20010101','20010102','20010103','20010101','20010102','20010104','20010102','20010103','20010104'])\n",
    "dates"
   ]
  },
  {
   "cell_type": "code",
   "execution_count": 40,
   "metadata": {
    "collapsed": false
   },
   "outputs": [
    {
     "data": {
      "text/plain": [
       "0    goog\n",
       "1    goog\n",
       "2    goog\n",
       "3      ge\n",
       "4      ge\n",
       "5     apl\n",
       "6     mrq\n",
       "7     mrq\n",
       "8     mrq\n",
       "dtype: object"
      ]
     },
     "execution_count": 40,
     "metadata": {},
     "output_type": "execute_result"
    }
   ],
   "source": [
    "sym=pd.Series(['goog','goog','goog','ge','ge','apl','mrq','mrq','mrq'])\n",
    "sym"
   ]
  },
  {
   "cell_type": "code",
   "execution_count": 43,
   "metadata": {
    "collapsed": false
   },
   "outputs": [
    {
     "data": {
      "text/plain": [
       "MultiIndex(levels=[['apl', 'ge', 'goog', 'mrq'], [2001-01-01 00:00:00, 2001-01-02 00:00:00, 2001-01-03 00:00:00, 2001-01-04 00:00:00]],\n",
       "           labels=[[2, 2, 2, 1, 1, 0, 3, 3, 3], [0, 1, 2, 0, 1, 3, 1, 2, 3]],\n",
       "           names=['sym', 'dates'])"
      ]
     },
     "execution_count": 43,
     "metadata": {},
     "output_type": "execute_result"
    }
   ],
   "source": [
    "array=[sym,dates]\n",
    "mindex=pd.MultiIndex.from_arrays(array,names=['sym','dates'])\n",
    "mindex"
   ]
  },
  {
   "cell_type": "code",
   "execution_count": 46,
   "metadata": {
    "collapsed": false
   },
   "outputs": [
    {
     "data": {
      "text/plain": [
       "sym   dates     \n",
       "goog  2001-01-01    0.003060\n",
       "      2001-01-02    0.562434\n",
       "      2001-01-03   -0.037342\n",
       "ge    2001-01-01   -0.277345\n",
       "      2001-01-02   -1.318837\n",
       "apl   2001-01-04    2.911909\n",
       "mrq   2001-01-02    0.332969\n",
       "      2001-01-03    0.203585\n",
       "      2001-01-04    0.804903\n",
       "dtype: float64"
      ]
     },
     "execution_count": 46,
     "metadata": {},
     "output_type": "execute_result"
    }
   ],
   "source": [
    "s=pd.Series(np.random.randn(9),index=mindex)\n",
    "s"
   ]
  },
  {
   "cell_type": "code",
   "execution_count": 48,
   "metadata": {
    "collapsed": false
   },
   "outputs": [
    {
     "data": {
      "text/html": [
       "<div>\n",
       "<table border=\"1\" class=\"dataframe\">\n",
       "  <thead>\n",
       "    <tr style=\"text-align: right;\">\n",
       "      <th></th>\n",
       "      <th></th>\n",
       "      <th>bear</th>\n",
       "      <th>bull</th>\n",
       "    </tr>\n",
       "    <tr>\n",
       "      <th>sym</th>\n",
       "      <th>dates</th>\n",
       "      <th></th>\n",
       "      <th></th>\n",
       "    </tr>\n",
       "  </thead>\n",
       "  <tbody>\n",
       "    <tr>\n",
       "      <th rowspan=\"3\" valign=\"top\">goog</th>\n",
       "      <th>2001-01-01</th>\n",
       "      <td>-0.805949</td>\n",
       "      <td>-2.191743</td>\n",
       "    </tr>\n",
       "    <tr>\n",
       "      <th>2001-01-02</th>\n",
       "      <td>-0.336090</td>\n",
       "      <td>-0.795111</td>\n",
       "    </tr>\n",
       "    <tr>\n",
       "      <th>2001-01-03</th>\n",
       "      <td>-1.199509</td>\n",
       "      <td>0.240183</td>\n",
       "    </tr>\n",
       "    <tr>\n",
       "      <th rowspan=\"2\" valign=\"top\">ge</th>\n",
       "      <th>2001-01-01</th>\n",
       "      <td>1.075182</td>\n",
       "      <td>0.386038</td>\n",
       "    </tr>\n",
       "    <tr>\n",
       "      <th>2001-01-02</th>\n",
       "      <td>1.356323</td>\n",
       "      <td>-0.733781</td>\n",
       "    </tr>\n",
       "    <tr>\n",
       "      <th>apl</th>\n",
       "      <th>2001-01-04</th>\n",
       "      <td>1.116660</td>\n",
       "      <td>0.713058</td>\n",
       "    </tr>\n",
       "    <tr>\n",
       "      <th rowspan=\"3\" valign=\"top\">mrq</th>\n",
       "      <th>2001-01-02</th>\n",
       "      <td>-0.690812</td>\n",
       "      <td>-1.045888</td>\n",
       "    </tr>\n",
       "    <tr>\n",
       "      <th>2001-01-03</th>\n",
       "      <td>0.154481</td>\n",
       "      <td>0.090919</td>\n",
       "    </tr>\n",
       "    <tr>\n",
       "      <th>2001-01-04</th>\n",
       "      <td>1.435864</td>\n",
       "      <td>-1.195886</td>\n",
       "    </tr>\n",
       "  </tbody>\n",
       "</table>\n",
       "</div>"
      ],
      "text/plain": [
       "                     bear      bull\n",
       "sym  dates                         \n",
       "goog 2001-01-01 -0.805949 -2.191743\n",
       "     2001-01-02 -0.336090 -0.795111\n",
       "     2001-01-03 -1.199509  0.240183\n",
       "ge   2001-01-01  1.075182  0.386038\n",
       "     2001-01-02  1.356323 -0.733781\n",
       "apl  2001-01-04  1.116660  0.713058\n",
       "mrq  2001-01-02 -0.690812 -1.045888\n",
       "     2001-01-03  0.154481  0.090919\n",
       "     2001-01-04  1.435864 -1.195886"
      ]
     },
     "execution_count": 48,
     "metadata": {},
     "output_type": "execute_result"
    }
   ],
   "source": [
    "panel=pd.DataFrame({'bear' : np.random.randn(9), 'bull' : np.random.randn(9)}, index=mindex)\n",
    "panel"
   ]
  },
  {
   "cell_type": "code",
   "execution_count": 51,
   "metadata": {
    "collapsed": false
   },
   "outputs": [
    {
     "data": {
      "text/html": [
       "<div>\n",
       "<table border=\"1\" class=\"dataframe\">\n",
       "  <thead>\n",
       "    <tr style=\"text-align: right;\">\n",
       "      <th></th>\n",
       "      <th>bear</th>\n",
       "      <th>bull</th>\n",
       "    </tr>\n",
       "    <tr>\n",
       "      <th>dates</th>\n",
       "      <th></th>\n",
       "      <th></th>\n",
       "    </tr>\n",
       "  </thead>\n",
       "  <tbody>\n",
       "    <tr>\n",
       "      <th>2001-01-01</th>\n",
       "      <td>-0.805949</td>\n",
       "      <td>-2.191743</td>\n",
       "    </tr>\n",
       "    <tr>\n",
       "      <th>2001-01-02</th>\n",
       "      <td>-0.336090</td>\n",
       "      <td>-0.795111</td>\n",
       "    </tr>\n",
       "    <tr>\n",
       "      <th>2001-01-03</th>\n",
       "      <td>-1.199509</td>\n",
       "      <td>0.240183</td>\n",
       "    </tr>\n",
       "  </tbody>\n",
       "</table>\n",
       "</div>"
      ],
      "text/plain": [
       "                bear      bull\n",
       "dates                         \n",
       "2001-01-01 -0.805949 -2.191743\n",
       "2001-01-02 -0.336090 -0.795111\n",
       "2001-01-03 -1.199509  0.240183"
      ]
     },
     "execution_count": 51,
     "metadata": {},
     "output_type": "execute_result"
    }
   ],
   "source": [
    "panel.loc['goog']"
   ]
  },
  {
   "cell_type": "code",
   "execution_count": 58,
   "metadata": {
    "collapsed": false
   },
   "outputs": [
    {
     "data": {
      "text/plain": [
       "dates\n",
       "2001-01-01   -2.191743\n",
       "2001-01-02   -0.795111\n",
       "2001-01-03    0.240183\n",
       "Name: bull, dtype: float64"
      ]
     },
     "execution_count": 58,
     "metadata": {},
     "output_type": "execute_result"
    }
   ],
   "source": [
    "panel.loc['goog']['bull']"
   ]
  },
  {
   "cell_type": "code",
   "execution_count": 109,
   "metadata": {
    "collapsed": false
   },
   "outputs": [
    {
     "data": {
      "text/html": [
       "<div>\n",
       "<table border=\"1\" class=\"dataframe\">\n",
       "  <thead>\n",
       "    <tr style=\"text-align: right;\">\n",
       "      <th></th>\n",
       "      <th>bear</th>\n",
       "      <th>bull</th>\n",
       "      <th>sym</th>\n",
       "      <th>dates</th>\n",
       "    </tr>\n",
       "  </thead>\n",
       "  <tbody>\n",
       "    <tr>\n",
       "      <th>0</th>\n",
       "      <td>-0.982481</td>\n",
       "      <td>-0.786623</td>\n",
       "      <td>goog</td>\n",
       "      <td>2001-01-01</td>\n",
       "    </tr>\n",
       "    <tr>\n",
       "      <th>1</th>\n",
       "      <td>0.374676</td>\n",
       "      <td>-1.138991</td>\n",
       "      <td>goog</td>\n",
       "      <td>2001-01-02</td>\n",
       "    </tr>\n",
       "    <tr>\n",
       "      <th>2</th>\n",
       "      <td>-0.697529</td>\n",
       "      <td>-0.046399</td>\n",
       "      <td>goog</td>\n",
       "      <td>2001-01-03</td>\n",
       "    </tr>\n",
       "    <tr>\n",
       "      <th>3</th>\n",
       "      <td>-0.830355</td>\n",
       "      <td>0.430338</td>\n",
       "      <td>ge</td>\n",
       "      <td>2001-01-01</td>\n",
       "    </tr>\n",
       "    <tr>\n",
       "      <th>4</th>\n",
       "      <td>-0.466159</td>\n",
       "      <td>-1.335782</td>\n",
       "      <td>ge</td>\n",
       "      <td>2001-01-02</td>\n",
       "    </tr>\n",
       "    <tr>\n",
       "      <th>5</th>\n",
       "      <td>0.414783</td>\n",
       "      <td>-0.065554</td>\n",
       "      <td>apl</td>\n",
       "      <td>2001-01-04</td>\n",
       "    </tr>\n",
       "    <tr>\n",
       "      <th>6</th>\n",
       "      <td>-0.243708</td>\n",
       "      <td>-0.352232</td>\n",
       "      <td>mrq</td>\n",
       "      <td>2001-01-02</td>\n",
       "    </tr>\n",
       "    <tr>\n",
       "      <th>7</th>\n",
       "      <td>0.217252</td>\n",
       "      <td>0.488872</td>\n",
       "      <td>mrq</td>\n",
       "      <td>2001-01-03</td>\n",
       "    </tr>\n",
       "    <tr>\n",
       "      <th>8</th>\n",
       "      <td>-0.168082</td>\n",
       "      <td>-0.623941</td>\n",
       "      <td>mrq</td>\n",
       "      <td>2001-01-04</td>\n",
       "    </tr>\n",
       "  </tbody>\n",
       "</table>\n",
       "</div>"
      ],
      "text/plain": [
       "       bear      bull   sym      dates\n",
       "0 -0.982481 -0.786623  goog 2001-01-01\n",
       "1  0.374676 -1.138991  goog 2001-01-02\n",
       "2 -0.697529 -0.046399  goog 2001-01-03\n",
       "3 -0.830355  0.430338    ge 2001-01-01\n",
       "4 -0.466159 -1.335782    ge 2001-01-02\n",
       "5  0.414783 -0.065554   apl 2001-01-04\n",
       "6 -0.243708 -0.352232   mrq 2001-01-02\n",
       "7  0.217252  0.488872   mrq 2001-01-03\n",
       "8 -0.168082 -0.623941   mrq 2001-01-04"
      ]
     },
     "execution_count": 109,
     "metadata": {},
     "output_type": "execute_result"
    }
   ],
   "source": [
    "df2=pd.DataFrame({'bear':np.random.randn(9),'bull':np.random.randn(9)})\n",
    "df2['sym']=sym\n",
    "df2['dates']=dates\n",
    "df2"
   ]
  },
  {
   "cell_type": "code",
   "execution_count": 98,
   "metadata": {
    "collapsed": false
   },
   "outputs": [
    {
     "data": {
      "text/plain": [
       "sym\n",
       "apl     1\n",
       "ge      2\n",
       "goog    3\n",
       "mrq     3\n",
       "dtype: int64"
      ]
     },
     "execution_count": 98,
     "metadata": {},
     "output_type": "execute_result"
    }
   ],
   "source": [
    "#groupby splits DataFrame into sub tables defined by groups of the specified column on which a function can be applied.\n",
    "#Then the result is combined back. \n",
    "df2.groupby('sym').size()"
   ]
  },
  {
   "cell_type": "code",
   "execution_count": 101,
   "metadata": {
    "collapsed": false
   },
   "outputs": [
    {
     "data": {
      "text/html": [
       "<div>\n",
       "<table border=\"1\" class=\"dataframe\">\n",
       "  <thead>\n",
       "    <tr style=\"text-align: right;\">\n",
       "      <th></th>\n",
       "      <th>bear</th>\n",
       "      <th>bull</th>\n",
       "    </tr>\n",
       "    <tr>\n",
       "      <th>sym</th>\n",
       "      <th></th>\n",
       "      <th></th>\n",
       "    </tr>\n",
       "  </thead>\n",
       "  <tbody>\n",
       "    <tr>\n",
       "      <th>apl</th>\n",
       "      <td>-0.604827</td>\n",
       "      <td>1.243361</td>\n",
       "    </tr>\n",
       "    <tr>\n",
       "      <th>ge</th>\n",
       "      <td>0.070396</td>\n",
       "      <td>0.107975</td>\n",
       "    </tr>\n",
       "    <tr>\n",
       "      <th>goog</th>\n",
       "      <td>-0.416915</td>\n",
       "      <td>0.329761</td>\n",
       "    </tr>\n",
       "    <tr>\n",
       "      <th>mrq</th>\n",
       "      <td>0.086901</td>\n",
       "      <td>-0.581046</td>\n",
       "    </tr>\n",
       "  </tbody>\n",
       "</table>\n",
       "</div>"
      ],
      "text/plain": [
       "          bear      bull\n",
       "sym                     \n",
       "apl  -0.604827  1.243361\n",
       "ge    0.070396  0.107975\n",
       "goog -0.416915  0.329761\n",
       "mrq   0.086901 -0.581046"
      ]
     },
     "execution_count": 101,
     "metadata": {},
     "output_type": "execute_result"
    }
   ],
   "source": [
    "df2.groupby('sym').mean()"
   ]
  },
  {
   "cell_type": "code",
   "execution_count": 110,
   "metadata": {
    "collapsed": false
   },
   "outputs": [
    {
     "data": {
      "text/html": [
       "<div>\n",
       "<table border=\"1\" class=\"dataframe\">\n",
       "  <thead>\n",
       "    <tr style=\"text-align: right;\">\n",
       "      <th></th>\n",
       "      <th>bear</th>\n",
       "      <th>bull</th>\n",
       "    </tr>\n",
       "    <tr>\n",
       "      <th>dates</th>\n",
       "      <th></th>\n",
       "      <th></th>\n",
       "    </tr>\n",
       "  </thead>\n",
       "  <tbody>\n",
       "    <tr>\n",
       "      <th>2001-01-01</th>\n",
       "      <td>-0.906418</td>\n",
       "      <td>-0.178142</td>\n",
       "    </tr>\n",
       "    <tr>\n",
       "      <th>2001-01-02</th>\n",
       "      <td>-0.111730</td>\n",
       "      <td>-0.942335</td>\n",
       "    </tr>\n",
       "    <tr>\n",
       "      <th>2001-01-03</th>\n",
       "      <td>-0.240138</td>\n",
       "      <td>0.221237</td>\n",
       "    </tr>\n",
       "    <tr>\n",
       "      <th>2001-01-04</th>\n",
       "      <td>0.123351</td>\n",
       "      <td>-0.344747</td>\n",
       "    </tr>\n",
       "  </tbody>\n",
       "</table>\n",
       "</div>"
      ],
      "text/plain": [
       "                bear      bull\n",
       "dates                         \n",
       "2001-01-01 -0.906418 -0.178142\n",
       "2001-01-02 -0.111730 -0.942335\n",
       "2001-01-03 -0.240138  0.221237\n",
       "2001-01-04  0.123351 -0.344747"
      ]
     },
     "execution_count": 110,
     "metadata": {},
     "output_type": "execute_result"
    }
   ],
   "source": [
    "df2.groupby('dates').mean()"
   ]
  },
  {
   "cell_type": "code",
   "execution_count": 136,
   "metadata": {
    "collapsed": false
   },
   "outputs": [
    {
     "data": {
      "text/html": [
       "<div>\n",
       "<table border=\"1\" class=\"dataframe\">\n",
       "  <thead>\n",
       "    <tr>\n",
       "      <th></th>\n",
       "      <th colspan=\"2\" halign=\"left\">bear</th>\n",
       "      <th colspan=\"2\" halign=\"left\">bull</th>\n",
       "    </tr>\n",
       "    <tr>\n",
       "      <th></th>\n",
       "      <th>mean</th>\n",
       "      <th>std</th>\n",
       "      <th>mean</th>\n",
       "      <th>std</th>\n",
       "    </tr>\n",
       "    <tr>\n",
       "      <th>dates</th>\n",
       "      <th></th>\n",
       "      <th></th>\n",
       "      <th></th>\n",
       "      <th></th>\n",
       "    </tr>\n",
       "  </thead>\n",
       "  <tbody>\n",
       "    <tr>\n",
       "      <th>2001-01-01</th>\n",
       "      <td>-0.906418</td>\n",
       "      <td>0.107569</td>\n",
       "      <td>-0.178142</td>\n",
       "      <td>0.860521</td>\n",
       "    </tr>\n",
       "    <tr>\n",
       "      <th>2001-01-02</th>\n",
       "      <td>-0.111730</td>\n",
       "      <td>0.435677</td>\n",
       "      <td>-0.942335</td>\n",
       "      <td>0.520430</td>\n",
       "    </tr>\n",
       "    <tr>\n",
       "      <th>2001-01-03</th>\n",
       "      <td>-0.240138</td>\n",
       "      <td>0.646848</td>\n",
       "      <td>0.221237</td>\n",
       "      <td>0.378494</td>\n",
       "    </tr>\n",
       "    <tr>\n",
       "      <th>2001-01-04</th>\n",
       "      <td>0.123351</td>\n",
       "      <td>0.412148</td>\n",
       "      <td>-0.344747</td>\n",
       "      <td>0.394839</td>\n",
       "    </tr>\n",
       "  </tbody>\n",
       "</table>\n",
       "</div>"
      ],
      "text/plain": [
       "                bear                bull          \n",
       "                mean       std      mean       std\n",
       "dates                                             \n",
       "2001-01-01 -0.906418  0.107569 -0.178142  0.860521\n",
       "2001-01-02 -0.111730  0.435677 -0.942335  0.520430\n",
       "2001-01-03 -0.240138  0.646848  0.221237  0.378494\n",
       "2001-01-04  0.123351  0.412148 -0.344747  0.394839"
      ]
     },
     "execution_count": 136,
     "metadata": {},
     "output_type": "execute_result"
    }
   ],
   "source": [
    "rep=df2.groupby('dates').agg([np.mean,np.std])\n",
    "rep"
   ]
  },
  {
   "cell_type": "code",
   "execution_count": 139,
   "metadata": {
    "collapsed": false
   },
   "outputs": [
    {
     "data": {
      "text/plain": [
       "MultiIndex(levels=[['bear', 'bull'], ['mean', 'std']],\n",
       "           labels=[[0, 0, 1, 1], [0, 1, 0, 1]])"
      ]
     },
     "execution_count": 139,
     "metadata": {},
     "output_type": "execute_result"
    }
   ],
   "source": [
    "rep.columns"
   ]
  },
  {
   "cell_type": "code",
   "execution_count": 148,
   "metadata": {
    "collapsed": false
   },
   "outputs": [
    {
     "data": {
      "text/plain": [
       "dates\n",
       "2001-01-01    0.215138\n",
       "2001-01-02    0.871354\n",
       "2001-01-03    1.293695\n",
       "2001-01-04    0.824296\n",
       "Freq: D, Name: std, dtype: float64"
      ]
     },
     "execution_count": 148,
     "metadata": {},
     "output_type": "execute_result"
    }
   ],
   "source": [
    "#this gives about 95% CI around the index\n",
    "rep['bear']['std']"
   ]
  },
  {
   "cell_type": "code",
   "execution_count": 231,
   "metadata": {
    "collapsed": false
   },
   "outputs": [],
   "source": [
    "plt.plot(rep.index,rep.bear['mean'],label='bearish')\n",
    "plt.plot(rep.index,rep.bull['mean'],label='bullish')\n",
    "plt.legend(loc='best')\n",
    "plt.fill_between(rep.index, rep.bear['mean']-2*rep.bear['std'], rep.bear['mean']+2*rep.bear['std'], color='r', alpha=0.2)\n",
    "plt.fill_between(rep.index, rep.bull['mean']-2*rep.bull['std'], rep.bull['mean']+2*rep.bull['std'], color='b', alpha=0.2)\n",
    "plt.title('Time series of mean bearish and bullish sentiment with 95% CI')\n",
    "plt.show()"
   ]
  },
  {
   "cell_type": "code",
   "execution_count": 23,
   "metadata": {
    "collapsed": false
   },
   "outputs": [
    {
     "data": {
      "text/html": [
       "<div>\n",
       "<table border=\"1\" class=\"dataframe\">\n",
       "  <thead>\n",
       "    <tr style=\"text-align: right;\">\n",
       "      <th></th>\n",
       "      <th>A</th>\n",
       "      <th>B</th>\n",
       "      <th>C</th>\n",
       "    </tr>\n",
       "  </thead>\n",
       "  <tbody>\n",
       "    <tr>\n",
       "      <th>0</th>\n",
       "      <td>a</td>\n",
       "      <td>1</td>\n",
       "      <td>4</td>\n",
       "    </tr>\n",
       "    <tr>\n",
       "      <th>1</th>\n",
       "      <td>a</td>\n",
       "      <td>2</td>\n",
       "      <td>5</td>\n",
       "    </tr>\n",
       "    <tr>\n",
       "      <th>2</th>\n",
       "      <td>b</td>\n",
       "      <td>3</td>\n",
       "      <td>6</td>\n",
       "    </tr>\n",
       "  </tbody>\n",
       "</table>\n",
       "</div>"
      ],
      "text/plain": [
       "   A  B  C\n",
       "0  a  1  4\n",
       "1  a  2  5\n",
       "2  b  3  6"
      ]
     },
     "execution_count": 23,
     "metadata": {},
     "output_type": "execute_result"
    }
   ],
   "source": [
    "dd=pd.DataFrame({'A':['a','a','b'],'B':[1,2,3],'C':[4,5,6]})\n",
    "dd"
   ]
  },
  {
   "cell_type": "code",
   "execution_count": 24,
   "metadata": {
    "collapsed": false
   },
   "outputs": [
    {
     "data": {
      "text/html": [
       "<div>\n",
       "<table border=\"1\" class=\"dataframe\">\n",
       "  <thead>\n",
       "    <tr style=\"text-align: right;\">\n",
       "      <th></th>\n",
       "      <th>A</th>\n",
       "      <th>B</th>\n",
       "      <th>C</th>\n",
       "      <th>S</th>\n",
       "    </tr>\n",
       "  </thead>\n",
       "  <tbody>\n",
       "    <tr>\n",
       "      <th>0</th>\n",
       "      <td>a</td>\n",
       "      <td>s</td>\n",
       "      <td>4</td>\n",
       "      <td>s</td>\n",
       "    </tr>\n",
       "    <tr>\n",
       "      <th>1</th>\n",
       "      <td>a</td>\n",
       "      <td>s</td>\n",
       "      <td>5</td>\n",
       "      <td>s</td>\n",
       "    </tr>\n",
       "    <tr>\n",
       "      <th>2</th>\n",
       "      <td>b</td>\n",
       "      <td>s</td>\n",
       "      <td>6</td>\n",
       "      <td>s</td>\n",
       "    </tr>\n",
       "  </tbody>\n",
       "</table>\n",
       "</div>"
      ],
      "text/plain": [
       "   A  B  C  S\n",
       "0  a  s  4  s\n",
       "1  a  s  5  s\n",
       "2  b  s  6  s"
      ]
     },
     "execution_count": 24,
     "metadata": {},
     "output_type": "execute_result"
    }
   ],
   "source": [
    "dd['S']=dd['B']=\"s\"\n",
    "dd"
   ]
  },
  {
   "cell_type": "code",
   "execution_count": 25,
   "metadata": {
    "collapsed": false
   },
   "outputs": [
    {
     "name": "stdout",
     "output_type": "stream",
     "text": [
      "0    a\n",
      "1    a\n",
      "2    b\n",
      "Name: A, dtype: object\n",
      "0    s\n",
      "1    s\n",
      "2    s\n",
      "Name: B, dtype: object\n",
      "0    4\n",
      "1    5\n",
      "2    6\n",
      "Name: C, dtype: int64\n",
      "0    s\n",
      "1    s\n",
      "2    s\n",
      "Name: S, dtype: object\n"
     ]
    }
   ],
   "source": [
    "for col in dd.columns:\n",
    "    print(dd[col])"
   ]
  },
  {
   "cell_type": "code",
   "execution_count": 21,
   "metadata": {
    "collapsed": false
   },
   "outputs": [],
   "source": [
    "dd['sample']='train'\n",
    "dd=dd.set_index(['sample',dd.index])"
   ]
  },
  {
   "cell_type": "code",
   "execution_count": 22,
   "metadata": {
    "collapsed": false
   },
   "outputs": [
    {
     "data": {
      "text/html": [
       "<div>\n",
       "<table border=\"1\" class=\"dataframe\">\n",
       "  <thead>\n",
       "    <tr style=\"text-align: right;\">\n",
       "      <th></th>\n",
       "      <th></th>\n",
       "      <th>A</th>\n",
       "      <th>B</th>\n",
       "      <th>C</th>\n",
       "    </tr>\n",
       "    <tr>\n",
       "      <th>sample</th>\n",
       "      <th></th>\n",
       "      <th></th>\n",
       "      <th></th>\n",
       "      <th></th>\n",
       "    </tr>\n",
       "  </thead>\n",
       "  <tbody>\n",
       "    <tr>\n",
       "      <th rowspan=\"3\" valign=\"top\">train</th>\n",
       "      <th>0</th>\n",
       "      <td>a</td>\n",
       "      <td>1</td>\n",
       "      <td>4</td>\n",
       "    </tr>\n",
       "    <tr>\n",
       "      <th>1</th>\n",
       "      <td>a</td>\n",
       "      <td>2</td>\n",
       "      <td>5</td>\n",
       "    </tr>\n",
       "    <tr>\n",
       "      <th>2</th>\n",
       "      <td>b</td>\n",
       "      <td>3</td>\n",
       "      <td>6</td>\n",
       "    </tr>\n",
       "  </tbody>\n",
       "</table>\n",
       "</div>"
      ],
      "text/plain": [
       "          A  B  C\n",
       "sample           \n",
       "train  0  a  1  4\n",
       "       1  a  2  5\n",
       "       2  b  3  6"
      ]
     },
     "execution_count": 22,
     "metadata": {},
     "output_type": "execute_result"
    }
   ],
   "source": [
    "dd"
   ]
  },
  {
   "cell_type": "code",
   "execution_count": 15,
   "metadata": {
    "collapsed": false
   },
   "outputs": [
    {
     "data": {
      "text/html": [
       "<div>\n",
       "<table border=\"1\" class=\"dataframe\">\n",
       "  <thead>\n",
       "    <tr style=\"text-align: right;\">\n",
       "      <th></th>\n",
       "      <th>A</th>\n",
       "      <th>B</th>\n",
       "      <th>C</th>\n",
       "      <th>index</th>\n",
       "    </tr>\n",
       "  </thead>\n",
       "  <tbody>\n",
       "    <tr>\n",
       "      <th>0</th>\n",
       "      <td>a</td>\n",
       "      <td>1</td>\n",
       "      <td>4</td>\n",
       "      <td>0</td>\n",
       "    </tr>\n",
       "    <tr>\n",
       "      <th>1</th>\n",
       "      <td>a</td>\n",
       "      <td>2</td>\n",
       "      <td>5</td>\n",
       "      <td>1</td>\n",
       "    </tr>\n",
       "    <tr>\n",
       "      <th>2</th>\n",
       "      <td>b</td>\n",
       "      <td>3</td>\n",
       "      <td>6</td>\n",
       "      <td>2</td>\n",
       "    </tr>\n",
       "  </tbody>\n",
       "</table>\n",
       "</div>"
      ],
      "text/plain": [
       "   A  B  C  index\n",
       "0  a  1  4      0\n",
       "1  a  2  5      1\n",
       "2  b  3  6      2"
      ]
     },
     "execution_count": 15,
     "metadata": {},
     "output_type": "execute_result"
    }
   ],
   "source": [
    "dd['index']=(dd.index).values\n",
    "dd"
   ]
  },
  {
   "cell_type": "code",
   "execution_count": 256,
   "metadata": {
    "collapsed": false
   },
   "outputs": [
    {
     "data": {
      "text/html": [
       "<div>\n",
       "<table border=\"1\" class=\"dataframe\">\n",
       "  <thead>\n",
       "    <tr style=\"text-align: right;\">\n",
       "      <th></th>\n",
       "      <th></th>\n",
       "      <th></th>\n",
       "      <th>C</th>\n",
       "    </tr>\n",
       "    <tr>\n",
       "      <th>index</th>\n",
       "      <th>A</th>\n",
       "      <th>B</th>\n",
       "      <th></th>\n",
       "    </tr>\n",
       "  </thead>\n",
       "  <tbody>\n",
       "    <tr>\n",
       "      <th>0</th>\n",
       "      <th>a</th>\n",
       "      <th>1</th>\n",
       "      <td>4</td>\n",
       "    </tr>\n",
       "    <tr>\n",
       "      <th>1</th>\n",
       "      <th>a</th>\n",
       "      <th>2</th>\n",
       "      <td>5</td>\n",
       "    </tr>\n",
       "    <tr>\n",
       "      <th>2</th>\n",
       "      <th>b</th>\n",
       "      <th>3</th>\n",
       "      <td>6</td>\n",
       "    </tr>\n",
       "  </tbody>\n",
       "</table>\n",
       "</div>"
      ],
      "text/plain": [
       "           C\n",
       "index A B   \n",
       "0     a 1  4\n",
       "1     a 2  5\n",
       "2     b 3  6"
      ]
     },
     "execution_count": 256,
     "metadata": {},
     "output_type": "execute_result"
    }
   ],
   "source": [
    "dd.set_index(['index','A','B'])"
   ]
  },
  {
   "cell_type": "code",
   "execution_count": null,
   "metadata": {
    "collapsed": true
   },
   "outputs": [],
   "source": [
    "def loop(str,list)\n",
    "    mapping[str]"
   ]
  },
  {
   "cell_type": "code",
   "execution_count": null,
   "metadata": {
    "collapsed": true
   },
   "outputs": [],
   "source": [
    "a=[1,2,3]\n",
    "a"
   ]
  }
 ],
 "metadata": {
  "kernelspec": {
   "display_name": "Python 3",
   "language": "python",
   "name": "python3"
  },
  "language_info": {
   "codemirror_mode": {
    "name": "ipython",
    "version": 3
   },
   "file_extension": ".py",
   "mimetype": "text/x-python",
   "name": "python",
   "nbconvert_exporter": "python",
   "pygments_lexer": "ipython3",
   "version": "3.4.3"
  }
 },
 "nbformat": 4,
 "nbformat_minor": 0
}
